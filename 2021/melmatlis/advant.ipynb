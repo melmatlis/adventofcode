{
 "cells": [
  {
   "cell_type": "markdown",
   "metadata": {},
   "source": [
    "# Day 1"
   ]
  },
  {
   "cell_type": "markdown",
   "metadata": {},
   "source": [
    "## Part 1"
   ]
  },
  {
   "cell_type": "code",
   "execution_count": 1,
   "metadata": {},
   "outputs": [],
   "source": [
    "import pandas as pd\n",
    "f = open(\"./input.txt\", \"r\")\n",
    "c = f.readlines()\n"
   ]
  },
  {
   "cell_type": "code",
   "execution_count": 2,
   "metadata": {},
   "outputs": [],
   "source": [
    "data = [int(x.replace('\\n','')) for x in c]\n",
    "df = pd.Series(data)\n"
   ]
  },
  {
   "cell_type": "code",
   "execution_count": 4,
   "metadata": {},
   "outputs": [
    {
     "data": {
      "text/plain": [
       "1653"
      ]
     },
     "execution_count": 4,
     "metadata": {},
     "output_type": "execute_result"
    }
   ],
   "source": [
    "## add manually last 2 records since the rolling works on left side\n",
    "tmp = df.rolling(window=3,center=False, min_periods=3).sum().dropna()\n",
    "(tmp.append(pd.Series([17125,8562 ]), ignore_index=False).diff()>0).sum()"
   ]
  },
  {
   "cell_type": "markdown",
   "metadata": {},
   "source": [
    "# Day2"
   ]
  },
  {
   "cell_type": "markdown",
   "metadata": {},
   "source": [
    "## Part 1"
   ]
  },
  {
   "cell_type": "code",
   "execution_count": 18,
   "metadata": {},
   "outputs": [],
   "source": [
    "f = open(\"./input2.txt\", \"r\")\n",
    "c = f.readlines()"
   ]
  },
  {
   "cell_type": "code",
   "execution_count": 21,
   "metadata": {},
   "outputs": [],
   "source": [
    "df = pd.DataFrame(c)[0].str.replace('\\n','').str.split(' ').apply(pd.Series)\n"
   ]
  },
  {
   "cell_type": "code",
   "execution_count": 22,
   "metadata": {},
   "outputs": [],
   "source": [
    "df.loc[df[0]=='forward','forward'] = df[1]\n",
    "df.loc[df[0]!='forward','depth'] = df[1]\n"
   ]
  },
  {
   "cell_type": "code",
   "execution_count": 23,
   "metadata": {},
   "outputs": [],
   "source": [
    "df['sign'] = 1\n",
    "df.loc[df[0]=='up', 'sign'] = -1\n"
   ]
  },
  {
   "cell_type": "code",
   "execution_count": 24,
   "metadata": {},
   "outputs": [],
   "source": [
    "df['forward'].fillna(0, inplace=True)\n",
    "df['depth_copy'] = df['depth'].copy()\n",
    "df['depth'].fillna(0, inplace=True)\n",
    "df['depth_copy'].ffill(inplace=True)\n"
   ]
  },
  {
   "cell_type": "code",
   "execution_count": 27,
   "metadata": {},
   "outputs": [],
   "source": [
    "df['depth'] = df['depth'].astype(int)\n",
    "df['forward'] = df['forward'].astype(int)\n",
    "df['dpth_sign'] = df['depth'].multiply(df['sign'])\n"
   ]
  },
  {
   "cell_type": "code",
   "execution_count": 28,
   "metadata": {},
   "outputs": [
    {
     "data": {
      "text/plain": [
       "forward      2065\n",
       "dpth_sign     917\n",
       "dtype: int64"
      ]
     },
     "execution_count": 28,
     "metadata": {},
     "output_type": "execute_result"
    }
   ],
   "source": [
    "df[['forward','dpth_sign']].sum()"
   ]
  },
  {
   "cell_type": "code",
   "execution_count": 176,
   "metadata": {},
   "outputs": [
    {
     "data": {
      "text/plain": [
       "1893605"
      ]
     },
     "execution_count": 176,
     "metadata": {},
     "output_type": "execute_result"
    }
   ],
   "source": [
    "2065*917"
   ]
  },
  {
   "cell_type": "markdown",
   "metadata": {},
   "source": [
    "## Part 2"
   ]
  },
  {
   "cell_type": "code",
   "execution_count": 29,
   "metadata": {},
   "outputs": [],
   "source": [
    "df['aim'] = df['dpth_sign']"
   ]
  },
  {
   "cell_type": "code",
   "execution_count": 30,
   "metadata": {},
   "outputs": [],
   "source": [
    "df['aim_cumsum'] = df['aim'].cumsum()"
   ]
  },
  {
   "cell_type": "code",
   "execution_count": 31,
   "metadata": {},
   "outputs": [
    {
     "name": "stdout",
     "output_type": "stream",
     "text": [
      "1026990 917 2065\n"
     ]
    }
   ],
   "source": [
    "depth = 0\n",
    "aim = 0\n",
    "forward = 0\n",
    "\n",
    "for _, row in df.iterrows():\n",
    "    value = int(row[1])\n",
    "    if row[0]=='up':\n",
    "        # depth  = depth - value\n",
    "        aim = aim - value\n",
    "    elif row[0]== 'down':\n",
    "        # depth  = depth + value\n",
    "        aim = aim + value\n",
    "    else:\n",
    "        forward = forward + value\n",
    "        depth = depth + (aim * value)\n",
    "        \n",
    "        \n",
    "print(depth, aim, forward)\n",
    "    \n",
    "    \n",
    "    "
   ]
  },
  {
   "cell_type": "code",
   "execution_count": 210,
   "metadata": {},
   "outputs": [
    {
     "data": {
      "text/plain": [
       "2120734350"
      ]
     },
     "execution_count": 210,
     "metadata": {},
     "output_type": "execute_result"
    }
   ],
   "source": [
    "1026990  * 2065"
   ]
  },
  {
   "cell_type": "markdown",
   "metadata": {},
   "source": [
    "# Day3"
   ]
  },
  {
   "cell_type": "markdown",
   "metadata": {},
   "source": [
    "## Part 1"
   ]
  },
  {
   "cell_type": "code",
   "execution_count": 230,
   "metadata": {},
   "outputs": [],
   "source": [
    "df = pd.read_csv('./input3.csv', header=None,dtype=object)"
   ]
  },
  {
   "cell_type": "code",
   "execution_count": 32,
   "metadata": {},
   "outputs": [],
   "source": [
    "df = pd.read_csv('./input3.csv', header=None,dtype=object)\n",
    "df_split = df[0].apply(lambda x: list(x)).apply(pd.Series)"
   ]
  },
  {
   "cell_type": "code",
   "execution_count": 37,
   "metadata": {},
   "outputs": [],
   "source": [
    "bin1 = ''.join(df_split.mode(axis=0).values[0])"
   ]
  },
  {
   "cell_type": "code",
   "execution_count": 38,
   "metadata": {},
   "outputs": [
    {
     "data": {
      "text/plain": [
       "190"
      ]
     },
     "execution_count": 38,
     "metadata": {},
     "output_type": "execute_result"
    }
   ],
   "source": [
    "int(bin1, 2)"
   ]
  },
  {
   "cell_type": "code",
   "execution_count": 240,
   "metadata": {},
   "outputs": [
    {
     "data": {
      "text/plain": [
       "3905"
      ]
     },
     "execution_count": 240,
     "metadata": {},
     "output_type": "execute_result"
    }
   ],
   "source": [
    "# manually reverse bits\n",
    "int(\"111101000001\",2)"
   ]
  },
  {
   "cell_type": "markdown",
   "metadata": {},
   "source": [
    "## Part 2"
   ]
  },
  {
   "cell_type": "code",
   "execution_count": 54,
   "metadata": {},
   "outputs": [
    {
     "name": "stdout",
     "output_type": "stream",
     "text": [
      "(511, 12)\n",
      "(256, 11)\n",
      "(126, 10)\n",
      "(72, 9)\n",
      "(37, 8)\n",
      "(15, 7)\n",
      "(8, 6)\n",
      "(4, 5)\n",
      "(2, 4)\n",
      "(1, 3)\n",
      "Int64Index([272], dtype='int64') single oxy\n",
      "(489, 12)\n",
      "(243, 11)\n",
      "(109, 10)\n",
      "(62, 9)\n",
      "(28, 8)\n",
      "(17, 7)\n",
      "(7, 6)\n",
      "(2, 5)\n",
      "(1, 4)\n",
      "Int64Index([522], dtype='int64') single oxy\n"
     ]
    }
   ],
   "source": [
    "df = pd.read_csv('./input3.csv', header=None,dtype=object)\n",
    "df_split = df[0].apply(lambda x: list(x)).apply(pd.Series)\n",
    "\n",
    "\n",
    "col = 0\n",
    "def find_oxy(df, col):\n",
    "    if df.shape[0]==1:\n",
    "        print(df.index, 'single oxy')\n",
    "        return df\n",
    "    else:\n",
    "        # print ('working on column', col)\n",
    "        most_common = df[col].mode().max()\n",
    "        col = col+1\n",
    "        # print (df.columns)\n",
    "        print (df[df[col]==most_common].shape)\n",
    "        find_oxy(df[df[col]==most_common][df.columns[1::]], col)\n",
    "    return df\n",
    "\n",
    "\n",
    "def find_co2(df, col):\n",
    "    if df.shape[0]==1:\n",
    "        print(df.index, 'single co2')\n",
    "        return df\n",
    "    else:\n",
    "        # print ('working on column', col)\n",
    "        most_common = df[col].mode().max()\n",
    "        least_common = \"1\" if most_common==\"0\" else \"1\"\n",
    "        col = col+1\n",
    "        # print (df.columns)\n",
    "        print (df[df[col]==least_common].shape)\n",
    "        find_oxy(df[df[col]==least_common][df.columns[1::]], col)\n",
    "    return df\n",
    "\n",
    "        \n",
    "a = find_oxy(df_split, col=0)\n",
    "a = find_co2(df_split, col=0)"
   ]
  },
  {
   "cell_type": "code",
   "execution_count": 291,
   "metadata": {},
   "outputs": [
    {
     "data": {
      "text/plain": [
       "False"
      ]
     },
     "execution_count": 291,
     "metadata": {},
     "output_type": "execute_result"
    }
   ],
   "source": [
    "178\n",
    "255"
   ]
  },
  {
   "cell_type": "code",
   "execution_count": 40,
   "metadata": {},
   "outputs": [],
   "source": [
    "a = ''.join(df_split.loc[178].values) # oxy\n",
    "b = ''.join(df_split.loc[255].values) # CO2"
   ]
  },
  {
   "cell_type": "code",
   "execution_count": 41,
   "metadata": {},
   "outputs": [
    {
     "data": {
      "text/plain": [
       "282"
      ]
     },
     "execution_count": 41,
     "metadata": {},
     "output_type": "execute_result"
    }
   ],
   "source": [
    "int(a,2)"
   ]
  },
  {
   "cell_type": "code",
   "execution_count": 42,
   "metadata": {},
   "outputs": [
    {
     "data": {
      "text/plain": [
       "3205"
      ]
     },
     "execution_count": 42,
     "metadata": {},
     "output_type": "execute_result"
    }
   ],
   "source": [
    "int(b,2)"
   ]
  },
  {
   "cell_type": "code",
   "execution_count": 43,
   "metadata": {},
   "outputs": [
    {
     "data": {
      "text/plain": [
       "903810"
      ]
     },
     "execution_count": 43,
     "metadata": {},
     "output_type": "execute_result"
    }
   ],
   "source": [
    "int(a,2) * int(b,2)"
   ]
  },
  {
   "cell_type": "markdown",
   "metadata": {},
   "source": [
    "## Day 4"
   ]
  },
  {
   "cell_type": "code",
   "execution_count": 75,
   "metadata": {},
   "outputs": [
    {
     "data": {
      "text/plain": [
       "100"
      ]
     },
     "execution_count": 75,
     "metadata": {},
     "output_type": "execute_result"
    }
   ],
   "source": [
    "order = [62,55,98,93,48,28,82,78,19,96,31,42,76,25,34,4,18,80,66,6,14,17,57,54,90,27,40,47,9,36,97,56,87,61,91,1,64,71,99,38,70,5,94,85,49,59,69,26,21,60,0,79,2,95,11,84,20,24,8,51,46,44,88,22,16,53,7,32,89,67,15,86,41,92,10,77,68,63,43,75,33,30,81,37,83,3,39,65,12,45,23,73,72,29,52,58,35,50,13,74]\n",
    "len(order)"
   ]
  },
  {
   "cell_type": "code",
   "execution_count": 104,
   "metadata": {},
   "outputs": [],
   "source": [
    "f = open(\"./input4.txt\", \"r\")\n",
    "c = f.readlines()"
   ]
  },
  {
   "cell_type": "code",
   "execution_count": 105,
   "metadata": {},
   "outputs": [],
   "source": [
    "df = pd.DataFrame(pd.DataFrame(c)[0].str.replace('\\n',''))\n",
    "df = df[df[0].str.len()==14]\n",
    "df = df[0].str.split(' ').apply(lambda x: [y for y in x if y!='']).apply(pd.Series)\n",
    "df = df.astype(int)\n"
   ]
  },
  {
   "cell_type": "code",
   "execution_count": 106,
   "metadata": {},
   "outputs": [],
   "source": [
    "arr3d = df.copy().to_numpy().reshape(100,5,5)"
   ]
  },
  {
   "cell_type": "code",
   "execution_count": 107,
   "metadata": {},
   "outputs": [
    {
     "name": "stdout",
     "output_type": "stream",
     "text": [
      "62\n",
      "55\n",
      "98\n",
      "93\n",
      "48\n",
      "28\n",
      "82\n",
      "78\n",
      "19\n",
      "96\n",
      "31\n",
      "42\n",
      "76\n",
      "25\n",
      "34\n",
      "4\n",
      "18\n",
      "80\n",
      "66\n",
      "6\n",
      "14\n",
      "winner vert\n",
      "(array([20], dtype=int64), array([0], dtype=int64))\n",
      "winning num 14\n",
      "17\n",
      "57\n",
      "54\n",
      "90\n",
      "winner vert\n",
      "(array([41], dtype=int64), array([0], dtype=int64))\n",
      "winning num 90\n",
      "27\n",
      "40\n",
      "winner hor\n",
      "(array([86], dtype=int64), array([4], dtype=int64))\n",
      "winning num 40\n",
      "47\n",
      "winner hor\n",
      "(array([72], dtype=int64), array([1], dtype=int64))\n",
      "winning num 47\n",
      "9\n",
      "36\n",
      "97\n",
      "56\n",
      "87\n",
      "winner hor\n",
      "(array([35], dtype=int64), array([4], dtype=int64))\n",
      "winning num 87\n",
      "61\n",
      "winner hor\n",
      "(array([74], dtype=int64), array([1], dtype=int64))\n",
      "winning num 61\n",
      "winner vert\n",
      "(array([56], dtype=int64), array([3], dtype=int64))\n",
      "winning num 61\n",
      "91\n",
      "1\n",
      "winner hor\n",
      "(array([73], dtype=int64), array([0], dtype=int64))\n",
      "winning num 1\n",
      "64\n",
      "71\n",
      "99\n",
      "winner hor\n",
      "(array([8], dtype=int64), array([4], dtype=int64))\n",
      "winning num 99\n",
      "winner vert\n",
      "(array([55, 59], dtype=int64), array([0, 1], dtype=int64))\n",
      "winning num 99\n",
      "38\n",
      "70\n",
      "winner hor\n",
      "(array([54], dtype=int64), array([0], dtype=int64))\n",
      "winning num 70\n",
      "5\n",
      "94\n",
      "winner hor\n",
      "(array([14], dtype=int64), array([2], dtype=int64))\n",
      "winning num 94\n",
      "85\n",
      "winner vert\n",
      "(array([96], dtype=int64), array([0], dtype=int64))\n",
      "winning num 85\n",
      "49\n",
      "winner hor\n",
      "(array([89], dtype=int64), array([1], dtype=int64))\n",
      "winning num 49\n",
      "59\n",
      "winner vert\n",
      "(array([32, 85], dtype=int64), array([1, 4], dtype=int64))\n",
      "winning num 59\n",
      "69\n",
      "winner hor\n",
      "(array([80], dtype=int64), array([1], dtype=int64))\n",
      "winning num 69\n",
      "winner vert\n",
      "(array([80, 99], dtype=int64), array([4, 2], dtype=int64))\n",
      "winning num 69\n",
      "26\n",
      "winner vert\n",
      "(array([53], dtype=int64), array([2], dtype=int64))\n",
      "winning num 26\n",
      "21\n",
      "winner hor\n",
      "(array([22], dtype=int64), array([4], dtype=int64))\n",
      "winning num 21\n",
      "winner vert\n",
      "(array([40, 75], dtype=int64), array([3, 2], dtype=int64))\n",
      "winning num 21\n",
      "60\n",
      "winner vert\n",
      "(array([21], dtype=int64), array([2], dtype=int64))\n",
      "winning num 60\n",
      "0\n",
      "winner vert\n",
      "(array([51, 76], dtype=int64), array([0, 3], dtype=int64))\n",
      "winning num 0\n",
      "79\n",
      "2\n",
      "winner hor\n",
      "(array([0], dtype=int64), array([2], dtype=int64))\n",
      "winning num 2\n",
      "winner vert\n",
      "(array([ 7,  9, 29, 30, 34], dtype=int64), array([4, 0, 4, 4, 1], dtype=int64))\n",
      "winning num 2\n",
      "95\n",
      "winner hor\n",
      "(array([15, 26, 45], dtype=int64), array([3, 3, 0], dtype=int64))\n",
      "winning num 95\n",
      "winner vert\n",
      "(array([ 6, 70], dtype=int64), array([4, 0], dtype=int64))\n",
      "winning num 95\n",
      "11\n",
      "winner hor\n",
      "(array([10, 11, 57], dtype=int64), array([1, 4, 3], dtype=int64))\n",
      "winning num 11\n",
      "84\n",
      "winner hor\n",
      "(array([23], dtype=int64), array([1], dtype=int64))\n",
      "winning num 84\n",
      "winner vert\n",
      "(array([23, 61, 71, 91], dtype=int64), array([4, 4, 0, 0], dtype=int64))\n",
      "winning num 84\n",
      "20\n",
      "winner hor\n",
      "(array([60], dtype=int64), array([4], dtype=int64))\n",
      "winning num 20\n",
      "winner vert\n",
      "(array([16, 65], dtype=int64), array([1, 4], dtype=int64))\n",
      "winning num 20\n",
      "24\n",
      "winner hor\n",
      "(array([63], dtype=int64), array([4], dtype=int64))\n",
      "winning num 24\n",
      "winner vert\n",
      "(array([25, 63], dtype=int64), array([2, 3], dtype=int64))\n",
      "winning num 24\n",
      "8\n",
      "winner hor\n",
      "(array([31, 68], dtype=int64), array([1, 2], dtype=int64))\n",
      "winning num 8\n",
      "winner vert\n",
      "(array([42], dtype=int64), array([4], dtype=int64))\n",
      "winning num 8\n",
      "51\n",
      "winner hor\n",
      "(array([13, 39], dtype=int64), array([0, 1], dtype=int64))\n",
      "winning num 51\n",
      "winner vert\n",
      "(array([95, 98], dtype=int64), array([3, 3], dtype=int64))\n",
      "winning num 51\n",
      "46\n",
      "winner hor\n",
      "(array([1], dtype=int64), array([1], dtype=int64))\n",
      "winning num 46\n",
      "winner vert\n",
      "(array([81], dtype=int64), array([1], dtype=int64))\n",
      "winning num 46\n",
      "44\n",
      "winner hor\n",
      "(array([49, 88], dtype=int64), array([4, 3], dtype=int64))\n",
      "winning num 44\n",
      "winner vert\n",
      "(array([49, 50, 88], dtype=int64), array([1, 1, 4], dtype=int64))\n",
      "winning num 44\n",
      "88\n",
      "winner vert\n",
      "(array([38, 48], dtype=int64), array([0, 1], dtype=int64))\n",
      "winning num 88\n",
      "22\n",
      "winner hor\n",
      "(array([27, 78, 90], dtype=int64), array([2, 4, 2], dtype=int64))\n",
      "winning num 22\n",
      "16\n",
      "winner vert\n",
      "(array([ 4, 36, 69, 82], dtype=int64), array([0, 2, 1, 3], dtype=int64))\n",
      "winning num 16\n",
      "53\n",
      "winner hor\n",
      "(array([12], dtype=int64), array([4], dtype=int64))\n",
      "winning num 53\n",
      "winner vert\n",
      "(array([33, 64, 66], dtype=int64), array([1, 1, 3], dtype=int64))\n",
      "winning num 53\n",
      "7\n",
      "winner vert\n",
      "(array([28, 44], dtype=int64), array([1, 2], dtype=int64))\n",
      "winning num 7\n",
      "32\n",
      "winner vert\n",
      "(array([2], dtype=int64), array([2], dtype=int64))\n",
      "winning num 32\n",
      "89\n",
      "winner hor\n",
      "(array([77], dtype=int64), array([2], dtype=int64))\n",
      "winning num 89\n",
      "67\n",
      "winner hor\n",
      "(array([67], dtype=int64), array([0], dtype=int64))\n",
      "winning num 67\n",
      "winner vert\n",
      "(array([67], dtype=int64), array([2], dtype=int64))\n",
      "winning num 67\n",
      "15\n",
      "winner hor\n",
      "(array([18, 24], dtype=int64), array([4, 4], dtype=int64))\n",
      "winning num 15\n",
      "winner vert\n",
      "(array([18, 24], dtype=int64), array([0, 1], dtype=int64))\n",
      "winning num 15\n",
      "86\n",
      "winner hor\n",
      "(array([97], dtype=int64), array([2], dtype=int64))\n",
      "winning num 86\n",
      "winner vert\n",
      "(array([58], dtype=int64), array([0], dtype=int64))\n",
      "winning num 86\n",
      "41\n",
      "winner vert\n",
      "(array([ 5, 19], dtype=int64), array([2, 2], dtype=int64))\n",
      "winning num 41\n",
      "92\n",
      "10\n",
      "winner hor\n",
      "(array([17, 43, 94], dtype=int64), array([1, 3, 2], dtype=int64))\n",
      "winning num 10\n",
      "77\n",
      "winner hor\n",
      "(array([ 3, 52], dtype=int64), array([2, 2], dtype=int64))\n",
      "winning num 77\n",
      "winner vert\n",
      "(array([ 3, 52], dtype=int64), array([1, 0], dtype=int64))\n",
      "winning num 77\n",
      "68\n",
      "winner vert\n",
      "(array([83], dtype=int64), array([4], dtype=int64))\n",
      "winning num 68\n",
      "63\n",
      "winner hor\n",
      "(array([46, 93], dtype=int64), array([4, 3], dtype=int64))\n",
      "winning num 63\n",
      "winner vert\n",
      "(array([93], dtype=int64), array([0], dtype=int64))\n",
      "winning num 63\n",
      "43\n",
      "winner vert\n",
      "(array([84, 87], dtype=int64), array([2, 0], dtype=int64))\n",
      "winning num 43\n",
      "75\n",
      "winner hor\n",
      "(array([92], dtype=int64), array([1], dtype=int64))\n",
      "winning num 75\n",
      "winner vert\n",
      "(array([79], dtype=int64), array([0], dtype=int64))\n",
      "winning num 75\n",
      "33\n",
      "winner hor\n",
      "(array([37], dtype=int64), array([4], dtype=int64))\n",
      "winning num 33\n",
      "30\n",
      "winner vert\n",
      "(array([62], dtype=int64), array([1], dtype=int64))\n",
      "winning num 30\n",
      "81\n",
      "winner hor\n",
      "(array([47], dtype=int64), array([2], dtype=int64))\n",
      "winning num 81\n",
      "37\n",
      "83\n",
      "3\n",
      "39\n",
      "65\n",
      "12\n",
      "45\n",
      "23\n",
      "73\n",
      "72\n",
      "29\n",
      "52\n",
      "58\n",
      "35\n",
      "50\n",
      "13\n",
      "74\n"
     ]
    }
   ],
   "source": [
    "import numpy as np\n",
    "history = []\n",
    "dict = ()\n",
    "for i in order:\n",
    "    print(i)\n",
    "    history.append(i)\n",
    "    hor = np.isin(arr3d, history).sum(axis=1)\n",
    "    ver = np.isin(arr3d, history).sum(axis=2)\n",
    "    if len(np.where(hor == 5)[0]) > 0:\n",
    "        print('winner hor')\n",
    "        print (np.where(hor == 5))\n",
    "        print('winning num', i)\n",
    "        arr3d[np.where(hor == 5)[0]] = -1 # mark minus so the board doesnt play anymore\n",
    "        win_num = i\n",
    "        win_board = np.where(hor == 5)\n",
    "\n",
    "    if len(np.where(ver == 5)[0]) > 0:\n",
    "        print('winner vert')\n",
    "        print( np.where(ver == 5))\n",
    "        print('winning num', i)\n",
    "        arr3d[np.where(ver == 5)[0]] = -1 # mark minus so the board doesnt play anymore\n",
    "        win_num = i\n",
    "        win_board = np.where(hor == 5)"
   ]
  },
  {
   "cell_type": "code",
   "execution_count": 108,
   "metadata": {},
   "outputs": [
    {
     "name": "stdout",
     "output_type": "stream",
     "text": [
      "last_board_to_win 81 47\n"
     ]
    }
   ],
   "source": [
    "print('last_board_to_win', win_num , win_board[0][0])\n",
    "# init to remove all the (-1)\n",
    "arr3d = df.to_numpy().reshape(100,5,5)\n",
    "last_win = pd.DataFrame(arr3d[win_board[0][0]])\n",
    "ind_of_winning_number = np.where(np.array(order) == win_num)[0][0]"
   ]
  },
  {
   "cell_type": "code",
   "execution_count": 110,
   "metadata": {},
   "outputs": [
    {
     "data": {
      "text/plain": [
       "18063.0"
      ]
     },
     "execution_count": 110,
     "metadata": {},
     "output_type": "execute_result"
    }
   ],
   "source": [
    "last_win[~last_win.isin(history[0:ind_of_winning_number+1])].sum().sum()*win_num"
   ]
  },
  {
   "cell_type": "markdown",
   "metadata": {},
   "source": [
    "## Day 5"
   ]
  },
  {
   "cell_type": "code",
   "execution_count": 62,
   "metadata": {},
   "outputs": [],
   "source": [
    "\n",
    "f = open(\"./input5.txt\", \"r\")\n",
    "c = f.readlines()"
   ]
  },
  {
   "cell_type": "code",
   "execution_count": 63,
   "metadata": {},
   "outputs": [],
   "source": [
    "import pandas as pd"
   ]
  },
  {
   "cell_type": "code",
   "execution_count": 65,
   "metadata": {},
   "outputs": [],
   "source": [
    "df = pd.DataFrame(c)\n",
    "df = df[0].str.replace('\\n','').str.replace('->',',').str.split(',').apply(pd.Series)\n",
    "df = df.astype(int)\n",
    "df['filter'] = df.apply(lambda row: 1 if ((row[0]==row[2])|(row[1]==row[3])) else 0, axis=1)   # keep only vertical and horizontal lines\n"
   ]
  },
  {
   "cell_type": "code",
   "execution_count": 66,
   "metadata": {},
   "outputs": [
    {
     "data": {
      "text/plain": [
       "1    337\n",
       "0    163\n",
       "Name: filter, dtype: int64"
      ]
     },
     "execution_count": 66,
     "metadata": {},
     "output_type": "execute_result"
    }
   ],
   "source": [
    "df['filter'].value_counts()"
   ]
  },
  {
   "cell_type": "code",
   "execution_count": 67,
   "metadata": {},
   "outputs": [],
   "source": [
    "df_lines = df[df['filter']==1]"
   ]
  },
  {
   "cell_type": "code",
   "execution_count": 69,
   "metadata": {},
   "outputs": [
    {
     "data": {
      "text/plain": [
       "990"
      ]
     },
     "execution_count": 69,
     "metadata": {},
     "output_type": "execute_result"
    }
   ],
   "source": [
    "# check max size of board\n",
    "df[[0,1,2,3]].max().max()"
   ]
  },
  {
   "cell_type": "code",
   "execution_count": 70,
   "metadata": {},
   "outputs": [],
   "source": [
    "import numpy as np\n",
    "zero = pd.DataFrame(0, index=np.arange(df[[0,1,2,3]].max().max()+1), columns=np.arange(df[[0,1,2,3]].max().max()+1))"
   ]
  },
  {
   "cell_type": "code",
   "execution_count": 71,
   "metadata": {},
   "outputs": [],
   "source": [
    "# get all points on diagonal with start and end point\n",
    "def get_line(x1, y1, x2, y2):\n",
    "    points = []\n",
    "    issteep = abs(y2-y1) > abs(x2-x1)\n",
    "    if issteep:\n",
    "        x1, y1 = y1, x1\n",
    "        x2, y2 = y2, x2\n",
    "    rev = False\n",
    "    if x1 > x2:\n",
    "        x1, x2 = x2, x1\n",
    "        y1, y2 = y2, y1\n",
    "        rev = True\n",
    "    deltax = x2 - x1\n",
    "    deltay = abs(y2-y1)\n",
    "    error = int(deltax / 2)\n",
    "    y = y1\n",
    "    ystep = None\n",
    "    if y1 < y2:\n",
    "        ystep = 1\n",
    "    else:\n",
    "        ystep = -1\n",
    "    for x in range(x1, x2 + 1):\n",
    "        if issteep:\n",
    "            points.append((y, x))\n",
    "        else:\n",
    "            points.append((x, y))\n",
    "        error -= deltay\n",
    "        if error < 0:\n",
    "            y += ystep\n",
    "            error += deltax\n",
    "    # Reverse the list if the coordinates were reversed\n",
    "    if rev:\n",
    "        points.reverse()\n",
    "    return points"
   ]
  },
  {
   "cell_type": "code",
   "execution_count": 72,
   "metadata": {},
   "outputs": [],
   "source": [
    "def add_counter(df_zero, x1, x2, x3, x4):\n",
    "    if x1==x3:\n",
    "        min_x = np.min([x2, x4])\n",
    "        max_x = np.max([x2, x4])\n",
    "        print (min_x, max_x)\n",
    "        df_zero.loc[x1][df_zero.columns[min_x:max_x+1]]  = df_zero.loc[x1][df_zero.columns[min_x:max_x+1]]+1\n",
    "    elif x2 == x4:\n",
    "        min_x = np.min([x1, x3])\n",
    "        max_x = np.max([x1, x3])\n",
    "        print (min_x, max_x)\n",
    "        df_zero.loc[min_x:max_x][x2]  = df_zero.loc[min_x:max_x][x2] + 1\n",
    "    # with diagonal for part 2\n",
    "    else:\n",
    "        points = get_line(x1, x2, x3, x4)\n",
    "        for point in points:\n",
    "            x = point[0]\n",
    "            y = point[1]\n",
    "            df_zero.loc[x][y] = df_zero.loc[x][y] + 1\n",
    "        \n",
    "    return df_zero\n",
    "    "
   ]
  },
  {
   "cell_type": "code",
   "execution_count": 73,
   "metadata": {},
   "outputs": [
    {
     "name": "stdout",
     "output_type": "stream",
     "text": [
      "57 687\n",
      "84 674\n",
      "430 807\n",
      "280 514\n",
      "11 574\n"
     ]
    },
    {
     "name": "stderr",
     "output_type": "stream",
     "text": [
      "C:\\Users\\MELMAT~1\\AppData\\Local\\Temp/ipykernel_45880/3390643633.py:11: SettingWithCopyWarning: \n",
      "A value is trying to be set on a copy of a slice from a DataFrame.\n",
      "Try using .loc[row_indexer,col_indexer] = value instead\n",
      "\n",
      "See the caveats in the documentation: https://pandas.pydata.org/pandas-docs/stable/user_guide/indexing.html#returning-a-view-versus-a-copy\n",
      "  df_zero.loc[min_x:max_x][x2]  = df_zero.loc[min_x:max_x][x2] + 1\n"
     ]
    },
    {
     "name": "stdout",
     "output_type": "stream",
     "text": [
      "658 713\n",
      "594 805\n",
      "313 899\n",
      "345 883\n",
      "46 572\n",
      "298 775\n",
      "121 718\n",
      "146 218\n",
      "124 857\n",
      "32 657\n",
      "609 964\n",
      "739 910\n",
      "243 960\n",
      "103 240\n",
      "497 568\n",
      "47 231\n",
      "222 240\n",
      "325 623\n",
      "123 405\n",
      "721 906\n",
      "267 484\n",
      "136 516\n",
      "706 954\n",
      "680 958\n",
      "680 908\n",
      "784 891\n",
      "174 623\n",
      "82 336\n",
      "652 763\n",
      "141 580\n",
      "685 779\n",
      "257 343\n",
      "420 703\n",
      "368 955\n",
      "79 905\n",
      "646 737\n",
      "243 933\n",
      "567 901\n",
      "147 159\n",
      "84 960\n",
      "372 860\n",
      "131 703\n",
      "247 368\n",
      "301 587\n",
      "461 506\n",
      "164 960\n",
      "327 874\n",
      "237 921\n",
      "575 717\n",
      "434 813\n",
      "311 418\n",
      "33 369\n",
      "226 558\n",
      "513 634\n",
      "207 439\n",
      "294 801\n",
      "182 603\n",
      "199 506\n",
      "22 563\n",
      "161 590\n",
      "269 932\n",
      "309 746\n",
      "386 568\n",
      "233 739\n",
      "356 628\n",
      "285 534\n",
      "563 698\n",
      "339 432\n",
      "335 414\n",
      "59 591\n",
      "330 341\n",
      "406 938\n",
      "346 864\n",
      "820 947\n",
      "63 107\n",
      "47 984\n",
      "193 776\n",
      "173 740\n",
      "489 546\n",
      "646 675\n",
      "592 805\n",
      "606 617\n",
      "179 505\n",
      "15 172\n",
      "17 192\n",
      "18 945\n",
      "161 385\n",
      "575 737\n",
      "74 147\n",
      "426 728\n",
      "73 583\n",
      "302 466\n",
      "184 525\n",
      "401 644\n",
      "253 976\n",
      "576 686\n",
      "389 582\n",
      "76 786\n",
      "231 402\n",
      "525 881\n",
      "364 383\n",
      "20 75\n",
      "107 692\n",
      "344 707\n",
      "216 663\n",
      "356 534\n",
      "519 973\n",
      "612 732\n",
      "485 806\n",
      "714 719\n",
      "342 905\n",
      "188 272\n",
      "65 679\n",
      "353 847\n",
      "652 989\n",
      "917 934\n",
      "118 791\n",
      "114 631\n",
      "797 850\n",
      "91 842\n",
      "69 452\n",
      "161 789\n",
      "630 785\n",
      "78 931\n",
      "133 842\n",
      "628 890\n",
      "509 592\n",
      "210 218\n",
      "525 558\n",
      "39 151\n",
      "718 833\n",
      "234 620\n",
      "150 959\n",
      "307 336\n",
      "643 752\n",
      "112 233\n",
      "190 274\n",
      "128 268\n",
      "18 552\n",
      "140 896\n",
      "114 727\n",
      "233 750\n",
      "213 758\n",
      "171 530\n",
      "38 301\n",
      "52 517\n",
      "203 365\n",
      "890 923\n",
      "147 347\n",
      "762 889\n",
      "424 558\n",
      "838 845\n",
      "27 454\n",
      "20 154\n",
      "154 173\n",
      "71 618\n",
      "500 873\n",
      "159 320\n",
      "213 977\n",
      "385 759\n",
      "210 650\n",
      "335 547\n",
      "709 714\n",
      "159 947\n",
      "604 837\n",
      "412 617\n",
      "60 467\n",
      "47 741\n",
      "561 708\n",
      "509 938\n",
      "670 885\n",
      "284 812\n",
      "242 438\n",
      "56 551\n",
      "526 637\n",
      "154 476\n",
      "145 400\n",
      "417 740\n",
      "771 923\n",
      "407 609\n",
      "235 842\n",
      "174 208\n",
      "370 731\n",
      "466 817\n",
      "370 894\n",
      "497 755\n",
      "145 398\n",
      "383 578\n",
      "849 985\n",
      "253 724\n",
      "51 525\n",
      "46 181\n",
      "916 975\n",
      "202 642\n",
      "240 490\n",
      "298 663\n",
      "259 377\n",
      "147 218\n",
      "486 683\n",
      "751 855\n",
      "558 989\n",
      "597 660\n",
      "317 889\n",
      "148 625\n",
      "176 256\n",
      "648 939\n",
      "411 645\n",
      "221 502\n",
      "213 821\n",
      "361 684\n",
      "173 405\n",
      "323 726\n",
      "35 131\n",
      "164 798\n",
      "133 989\n",
      "155 545\n",
      "401 766\n",
      "203 864\n",
      "604 636\n",
      "882 970\n",
      "835 866\n",
      "507 715\n",
      "494 928\n",
      "104 193\n",
      "518 778\n",
      "34 135\n",
      "341 902\n",
      "21 344\n",
      "244 503\n",
      "635 938\n",
      "262 974\n",
      "46 75\n",
      "17 747\n",
      "149 239\n",
      "251 881\n",
      "204 753\n",
      "33 130\n",
      "42 304\n",
      "565 773\n",
      "234 387\n",
      "433 723\n",
      "370 595\n",
      "241 910\n",
      "560 908\n",
      "411 565\n",
      "624 708\n",
      "423 930\n",
      "607 613\n",
      "186 827\n",
      "142 483\n",
      "50 692\n",
      "360 653\n",
      "174 948\n",
      "774 797\n",
      "486 812\n",
      "102 659\n",
      "62 164\n",
      "58 387\n",
      "396 694\n",
      "241 361\n",
      "112 707\n",
      "636 771\n",
      "389 508\n",
      "57 516\n",
      "239 607\n",
      "631 975\n",
      "597 611\n",
      "504 900\n",
      "476 625\n",
      "296 613\n",
      "188 273\n",
      "425 791\n",
      "39 866\n",
      "97 579\n",
      "59 581\n",
      "256 550\n",
      "15 380\n",
      "112 686\n",
      "305 791\n",
      "741 898\n",
      "113 479\n",
      "18 650\n",
      "280 550\n",
      "155 235\n",
      "34 454\n",
      "173 913\n",
      "234 775\n",
      "444 576\n",
      "548 801\n",
      "363 859\n",
      "487 654\n",
      "443 729\n",
      "350 885\n",
      "31 175\n",
      "280 423\n",
      "424 948\n",
      "674 723\n",
      "423 577\n",
      "19 424\n",
      "296 308\n",
      "905 955\n",
      "319 892\n",
      "91 497\n",
      "835 885\n",
      "610 938\n",
      "661 961\n",
      "297 378\n",
      "612 874\n",
      "185 218\n",
      "735 840\n",
      "461 964\n",
      "456 485\n",
      "132 793\n",
      "561 614\n",
      "147 181\n",
      "159 175\n",
      "647 858\n",
      "443 720\n",
      "631 641\n",
      "202 891\n",
      "73 710\n",
      "571 643\n",
      "716 810\n",
      "517 575\n",
      "260 727\n",
      "581 606\n",
      "252 761\n",
      "670 916\n",
      "139 309\n",
      "194 386\n",
      "182 557\n",
      "389 698\n"
     ]
    }
   ],
   "source": [
    "for i, row in df.iterrows():\n",
    "    zero = add_counter(zero, row[0], row[1], row[2], row[3])"
   ]
  },
  {
   "cell_type": "code",
   "execution_count": 74,
   "metadata": {},
   "outputs": [
    {
     "data": {
      "text/plain": [
       "17193"
      ]
     },
     "execution_count": 74,
     "metadata": {},
     "output_type": "execute_result"
    }
   ],
   "source": [
    "len(np.where(zero.values>=2)[0])"
   ]
  },
  {
   "cell_type": "code",
   "execution_count": null,
   "metadata": {},
   "outputs": [],
   "source": []
  }
 ],
 "metadata": {
  "interpreter": {
   "hash": "6ecc0689792541d76a25e7b014039b88b249ed9a7602218eac2dab3ca0c68a27"
  },
  "kernelspec": {
   "display_name": "Python 3.8.5 64-bit ('nlp-task': conda)",
   "language": "python",
   "name": "python3"
  },
  "language_info": {
   "codemirror_mode": {
    "name": "ipython",
    "version": 3
   },
   "file_extension": ".py",
   "mimetype": "text/x-python",
   "name": "python",
   "nbconvert_exporter": "python",
   "pygments_lexer": "ipython3",
   "version": "3.8.12"
  },
  "orig_nbformat": 4
 },
 "nbformat": 4,
 "nbformat_minor": 2
}
